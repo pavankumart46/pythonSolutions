{
 "cells": [
  {
   "cell_type": "markdown",
   "metadata": {},
   "source": [
    "Problem -1\n",
    "\n",
    "In a given string of characters \n",
    "- Find the Highest frequent character\n",
    "- Find the second Highest Frequent Character\n",
    "- Find the Kth Highest Frequent Character"
   ]
  },
  {
   "cell_type": "code",
   "execution_count": 1,
   "metadata": {},
   "outputs": [
    {
     "name": "stdout",
     "output_type": "stream",
     "text": [
      "andhra\n",
      "a\n"
     ]
    }
   ],
   "source": [
    "# Read the string\n",
    "n = input()\n",
    "# Convert the string into a list\n",
    "l=list(n)\n",
    "d = dict() # Creating an empty Dictionary\n",
    "for i in l:\n",
    "    count = l.count(i) # Get the count of a \n",
    "    #particular character\n",
    "    d[i] = count # Assigning the character as a key\n",
    "    # count as its value\n",
    "values_list = d.values()\n",
    "ordered_list = sorted(values_list,reverse = True)\n",
    "max_val = ordered_list[0]\n",
    "# Finding out the highest frequent character\n",
    "for i in d.items():\n",
    "    if i[1] == max_val:\n",
    "        print(i[0])"
   ]
  },
  {
   "cell_type": "code",
   "execution_count": 2,
   "metadata": {},
   "outputs": [
    {
     "data": {
      "text/plain": [
       "'C'"
      ]
     },
     "execution_count": 2,
     "metadata": {},
     "output_type": "execute_result"
    }
   ],
   "source": [
    "chr(67)"
   ]
  },
  {
   "cell_type": "code",
   "execution_count": 3,
   "metadata": {},
   "outputs": [
    {
     "data": {
      "text/plain": [
       "67"
      ]
     },
     "execution_count": 3,
     "metadata": {},
     "output_type": "execute_result"
    }
   ],
   "source": [
    "ord('C')"
   ]
  },
  {
   "cell_type": "code",
   "execution_count": 4,
   "metadata": {},
   "outputs": [
    {
     "data": {
      "text/plain": [
       "99"
      ]
     },
     "execution_count": 4,
     "metadata": {},
     "output_type": "execute_result"
    }
   ],
   "source": [
    "ord('c')"
   ]
  },
  {
   "cell_type": "code",
   "execution_count": 5,
   "metadata": {},
   "outputs": [
    {
     "name": "stdout",
     "output_type": "stream",
     "text": [
      "andhran\n",
      "Enter the Value K2\n",
      "d\n",
      "h\n",
      "r\n"
     ]
    }
   ],
   "source": [
    "# Read the string\n",
    "n = input()\n",
    "# Convert the string into a list\n",
    "l=list(n)\n",
    "d = dict() # Creating an empty Dictionary\n",
    "for i in l:\n",
    "    count = l.count(i) # Get the count of a \n",
    "    #particular character\n",
    "    d[i] = count # Assigning the character as a key\n",
    "    # count as its value\n",
    "values_list = set(d.values())\n",
    "ordered_list = sorted(values_list,reverse = True)\n",
    "ordered_list\n",
    "# Kth Largest Frequent character has to be found out\n",
    "k = int(input(\"Enter the Value K\"))\n",
    "if k>len(ordered_list):\n",
    "    print(\"We didnot find the kth largest element for \",k) \n",
    "else:\n",
    "    max_val = ordered_list[k-1]\n",
    "    # Finding out the highest frequent character\n",
    "    for i in d.items():\n",
    "        if i[1] == max_val:\n",
    "            print(i[0])\n",
    "\n"
   ]
  },
  {
   "cell_type": "markdown",
   "metadata": {},
   "source": [
    "Problem -2\n",
    "\n",
    "In a given string of characters\n",
    "\n",
    "    Find the least frequent character\n",
    "    Find the second least Frequent Character\n",
    "    Find the Kth least Frequent Character\n",
    "- Convert a list into a unique list without using set()"
   ]
  },
  {
   "cell_type": "markdown",
   "metadata": {},
   "source": [
    "# Higher Order Functions"
   ]
  },
  {
   "cell_type": "code",
   "execution_count": 8,
   "metadata": {},
   "outputs": [
    {
     "data": {
      "text/plain": [
       "[2, 4, 6, 8, 10, 12, 14, 16, 18, 20]"
      ]
     },
     "execution_count": 8,
     "metadata": {},
     "output_type": "execute_result"
    }
   ],
   "source": [
    "def mul_two(n):\n",
    "    return n*2\n",
    "\n",
    "l1 = list(range(1,11))\n",
    "list(map(mul_two,l1))"
   ]
  },
  {
   "cell_type": "code",
   "execution_count": 11,
   "metadata": {},
   "outputs": [
    {
     "data": {
      "text/plain": [
       "[1, 2, 3, 4, 5, 6, 7, 8, 9]"
      ]
     },
     "execution_count": 11,
     "metadata": {},
     "output_type": "execute_result"
    }
   ],
   "source": [
    "l2 = [1.2,2.3,3.4,4.5,5.6,6.7,7.8,8.9,9.0]\n",
    "# for i in l2:\n",
    "#     l3.append(int(i))\n",
    "list(map(int,l2))"
   ]
  },
  {
   "cell_type": "code",
   "execution_count": 18,
   "metadata": {},
   "outputs": [
    {
     "data": {
      "text/plain": [
       "[('Hyderabad', 89.6),\n",
       " ('Guntur', 104.0),\n",
       " ('Vijayawada', 104.0),\n",
       " ('Vizag', 100.4),\n",
       " ('Rajahmundry', 102.2)]"
      ]
     },
     "execution_count": 18,
     "metadata": {},
     "output_type": "execute_result"
    }
   ],
   "source": [
    "weather_data = [(\"Hyderabad\",32),(\"Guntur\",40),\n",
    "                (\"Vijayawada\",40),(\"Vizag\",38),\n",
    "                (\"Rajahmundry\",39)]\n",
    "\n",
    "# Write a program that converts all the celius temp to \n",
    "# farenheit\n",
    "# f = (9/5)*c + 32\n",
    "# print the results the same way as weather_data \n",
    "# list is given\n",
    "el = []\n",
    "for i in weather_data:\n",
    "    ft = i[1]*(9/5) + 32\n",
    "    entry = (i[0],ft)\n",
    "    el.append(entry)\n",
    "el"
   ]
  },
  {
   "cell_type": "code",
   "execution_count": 19,
   "metadata": {},
   "outputs": [
    {
     "data": {
      "text/plain": [
       "[('Hyderabad', 32),\n",
       " ('Guntur', 40),\n",
       " ('Vijayawada', 40),\n",
       " ('Vizag', 38),\n",
       " ('Rajahmundry', 39)]"
      ]
     },
     "execution_count": 19,
     "metadata": {},
     "output_type": "execute_result"
    }
   ],
   "source": [
    "weather_data"
   ]
  },
  {
   "cell_type": "code",
   "execution_count": 20,
   "metadata": {},
   "outputs": [
    {
     "data": {
      "text/plain": [
       "[('Hyderabad', 89.6),\n",
       " ('Guntur', 104.0),\n",
       " ('Vijayawada', 104.0),\n",
       " ('Vizag', 100.4),\n",
       " ('Rajahmundry', 102.2)]"
      ]
     },
     "execution_count": 20,
     "metadata": {},
     "output_type": "execute_result"
    }
   ],
   "source": [
    "el"
   ]
  },
  {
   "cell_type": "code",
   "execution_count": 23,
   "metadata": {},
   "outputs": [
    {
     "data": {
      "text/plain": [
       "[('Hyderabad', 89.6),\n",
       " ('Guntur', 104.0),\n",
       " ('Vijayawada', 104.0),\n",
       " ('Vizag', 100.4),\n",
       " ('Rajahmundry', 102.2)]"
      ]
     },
     "execution_count": 23,
     "metadata": {},
     "output_type": "execute_result"
    }
   ],
   "source": [
    "def conversion(t):\n",
    "    cn,ct = t\n",
    "    return (cn,ct*(9/5) + 32)\n",
    "list(map(conversion,weather_data))"
   ]
  },
  {
   "cell_type": "markdown",
   "metadata": {},
   "source": [
    "Goal: given a list of three dimensional points in the form of tuples, create a new list consisting of the distances of each point from the origin\n",
    "\t\n",
    "Loop Method: \n",
    "\t- distance(x, y, z) = sqrt(x**2 + y**2 + z**2)\n",
    "\t- loop through the list and add results to a new list\n",
    "    \n",
    "l = [(1,1,1),(1,5,7),(2,4,5),(3,6,9),(23,35,56),(22,33,44)]"
   ]
  },
  {
   "cell_type": "code",
   "execution_count": 34,
   "metadata": {},
   "outputs": [
    {
     "data": {
      "text/plain": [
       "[1.7320508075688772,\n",
       " 8.660254037844387,\n",
       " 6.708203932499369,\n",
       " 11.224972160321824,\n",
       " 69.92853494818836,\n",
       " 59.23681287847955]"
      ]
     },
     "execution_count": 34,
     "metadata": {},
     "output_type": "execute_result"
    }
   ],
   "source": [
    "from math import sqrt\n",
    "def calculate_distance(point):\n",
    "    x,y,z = point\n",
    "    return sqrt(x**2+y**2+z**2)\n",
    "l5 = [(1,1,1),(1,5,7),(2,4,5),(3,6,9),(23,35,56),(22,33,44)]\n",
    "# empty_list = []\n",
    "# for i in l5:\n",
    "#     empty_list.append(calculate_distance(i))\n",
    "# empty_list\n",
    "list(map(calculate_distance,l5))"
   ]
  },
  {
   "cell_type": "code",
   "execution_count": null,
   "metadata": {},
   "outputs": [],
   "source": [
    "# Given a list of lists of integers add all the \n",
    "# values in the sub-list and print the sum of the list\n",
    "l6 = [[31,231,435],[1223,454,665],[12,1223,445,656,8778]]\n"
   ]
  },
  {
   "cell_type": "code",
   "execution_count": null,
   "metadata": {},
   "outputs": [],
   "source": []
  }
 ],
 "metadata": {
  "kernelspec": {
   "display_name": "Python 3",
   "language": "python",
   "name": "python3"
  },
  "language_info": {
   "codemirror_mode": {
    "name": "ipython",
    "version": 3
   },
   "file_extension": ".py",
   "mimetype": "text/x-python",
   "name": "python",
   "nbconvert_exporter": "python",
   "pygments_lexer": "ipython3",
   "version": "3.7.3"
  }
 },
 "nbformat": 4,
 "nbformat_minor": 2
}
