{
 "cells": [
  {
   "cell_type": "markdown",
   "metadata": {},
   "source": [
    "### Shiritori Game !"
   ]
  },
  {
   "cell_type": "markdown",
   "metadata": {},
   "source": [
    "This challenge is an English twist on the Japanese word game Shiritori. The basic premise is to follow two rules:\n",
    "\n",
    "- The first character of the next word must match the last character of the previous word.\n",
    "- The word must not have already been said."
   ]
  },
  {
   "cell_type": "markdown",
   "metadata": {},
   "source": [
    "Sample Input\n",
    "- 4\n",
    "- Jawed dowry yash home\n",
    "- eagle eagle oh house elated\n",
    "- dongle excited danger doubt\n",
    "- ajesh how worst torture"
   ]
  },
  {
   "cell_type": "markdown",
   "metadata": {},
   "source": [
    "Sample O/p:\n",
    "- True\n",
    "- False\n",
    "- False\n",
    "- True"
   ]
  },
  {
   "cell_type": "code",
   "execution_count": 8,
   "metadata": {},
   "outputs": [
    {
     "name": "stdout",
     "output_type": "stream",
     "text": [
      "4\n",
      "dowry yash how what\n",
      "Valid\n",
      "eagle eagle eagle\n",
      "Invalid\n",
      "typo orange\n",
      "Valid\n",
      "pavan isro\n",
      "Invalid\n"
     ]
    }
   ],
   "source": [
    "n = int(input())\n",
    "for i in range(n):\n",
    "    s = input().split()\n",
    "    status = True\n",
    "    for j in range(1,len(s)):\n",
    "        second_word = s[j]\n",
    "        first_word = s[j-1]\n",
    "        if(second_word[0] != first_word[-1]):\n",
    "            status = False\n",
    "            break\n",
    "            \n",
    "    for j in s:\n",
    "        if s.count(j) > 1:\n",
    "            status = False\n",
    "            break\n",
    "            \n",
    "    if(status):\n",
    "        print(\"Valid\")\n",
    "    else:\n",
    "        print(\"Invalid\")\n",
    "        "
   ]
  },
  {
   "cell_type": "code",
   "execution_count": null,
   "metadata": {},
   "outputs": [],
   "source": []
  }
 ],
 "metadata": {
  "kernelspec": {
   "display_name": "Python 3",
   "language": "python",
   "name": "python3"
  },
  "language_info": {
   "codemirror_mode": {
    "name": "ipython",
    "version": 3
   },
   "file_extension": ".py",
   "mimetype": "text/x-python",
   "name": "python",
   "nbconvert_exporter": "python",
   "pygments_lexer": "ipython3",
   "version": "3.7.3"
  }
 },
 "nbformat": 4,
 "nbformat_minor": 2
}
